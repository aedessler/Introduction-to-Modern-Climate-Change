{
 "cells": [
  {
   "cell_type": "markdown",
   "metadata": {},
   "source": [
    "# Chapter 3\n",
    "\n",
    "### Radiation physics"
   ]
  },
  {
   "cell_type": "code",
   "execution_count": 1,
   "metadata": {},
   "outputs": [],
   "source": [
    "from matplotlib.pyplot import *\n",
    "import matplotlib.pyplot as plt\n",
    "import numpy as np\n",
    "\n",
    "from ipywidgets import interact"
   ]
  },
  {
   "cell_type": "code",
   "execution_count": 12,
   "metadata": {},
   "outputs": [],
   "source": [
    "plt.rcParams['font.size'] = 12"
   ]
  },
  {
   "cell_type": "code",
   "execution_count": 2,
   "metadata": {},
   "outputs": [],
   "source": [
    "planck=lambda x,temp: 5e-24/(x*1e-6)**5/(np.exp(0.0144/(temp*x*1e-6)) - 1)*75.1"
   ]
  },
  {
   "cell_type": "code",
   "execution_count": 7,
   "metadata": {},
   "outputs": [],
   "source": [
    "def wavelength_to_rgb(wavelength, gamma=0.8):\n",
    "    ''' taken from http://www.noah.org/wiki/Wavelength_to_RGB_in_Python\n",
    "    This converts a given wavelength of light to an \n",
    "    approximate RGB color value. The wavelength must be given\n",
    "    in nanometers in the range from 380 nm through 750 nm\n",
    "    (789 THz through 400 THz).\n",
    "\n",
    "    Based on code by Dan Bruton\n",
    "    http://www.physics.sfasu.edu/astro/color/spectra.html\n",
    "    Additionally alpha value set to 0.5 outside range\n",
    "    '''\n",
    "    wavelength = float(wavelength)\n",
    "#     if wavelength >= 380 and wavelength <= 750:\n",
    "#         A = 1.\n",
    "#     else:\n",
    "#         A=1.\n",
    "\n",
    "    R = 1\n",
    "    G = 1\n",
    "    B = 1\n",
    "    A = 1\n",
    "    \n",
    "#     if wavelength < 380:\n",
    "#         wavelength = 380.\n",
    "#     if wavelength >750:\n",
    "#         wavelength = 750.\n",
    "\n",
    "    if wavelength >= 380 and wavelength <= 440:\n",
    "        attenuation = 0.3 + 0.7 * (wavelength - 380) / (440 - 380)\n",
    "        R = ((-(wavelength - 440) / (440 - 380)) * attenuation) ** gamma\n",
    "        G = 0.0\n",
    "        B = (1.0 * attenuation) ** gamma\n",
    "    elif wavelength >= 440 and wavelength <= 490:\n",
    "        R = 0.0\n",
    "        G = ((wavelength - 440) / (490 - 440)) ** gamma\n",
    "        B = 1.0\n",
    "    elif wavelength >= 490 and wavelength <= 510:\n",
    "        R = 0.0\n",
    "        G = 1.0\n",
    "        B = (-(wavelength - 510) / (510 - 490)) ** gamma\n",
    "    elif wavelength >= 510 and wavelength <= 580:\n",
    "        R = ((wavelength - 510) / (580 - 510)) ** gamma\n",
    "        G = 1.0\n",
    "        B = 0.0\n",
    "    elif wavelength >= 580 and wavelength <= 645:\n",
    "        R = 1.0\n",
    "        G = (-(wavelength - 645) / (645 - 580)) ** gamma\n",
    "        B = 0.0\n",
    "    elif wavelength >= 645 and wavelength <= 750:\n",
    "        attenuation = 0.3 + 0.7 * (750 - wavelength) / (750 - 645)\n",
    "        R = (1.0 * attenuation) ** gamma\n",
    "        G = 0.0\n",
    "        B = 0.0\n",
    "\n",
    "    return (R,G,B,A)\n",
    "\n",
    "clim=(350,780)\n",
    "norm = plt.Normalize(*clim)\n",
    "wl = np.arange(clim[0],clim[1]+1,2)\n",
    "colorlist = list(zip(norm(wl),[wavelength_to_rgb(w) for w in wl]))\n",
    "spectralmap = matplotlib.colors.LinearSegmentedColormap.from_list(\"spectrum\", colorlist)"
   ]
  },
  {
   "cell_type": "markdown",
   "metadata": {},
   "source": [
    "## blackbody radiation"
   ]
  },
  {
   "cell_type": "markdown",
   "metadata": {},
   "source": [
    "As discussed in the book, everything glows via blackbody radiation.  And the wavelength of the glow is determined by the object's temperature.\n",
    "\n",
    "The plot below shows how the blackbody spectrum changes as the object's temperature changes.  The hotter object, the shorter the wavelength \\[Dash] the colored area denotes the visible portion of the electromagnetic spectrum.   As you move the slider back and forth, the temperature will vary between 255 K (the temperature of the Earth with no atmosphere) and 6000 K (the blackbody temperature of the Sun)."
   ]
  },
  {
   "cell_type": "code",
   "execution_count": 4,
   "metadata": {},
   "outputs": [],
   "source": [
    "## code goes here"
   ]
  },
  {
   "cell_type": "markdown",
   "metadata": {},
   "source": [
    "**Question 1**:  At what temperature can you begin to see the object glow?  \n",
    "**Question 2**: What is the relationship between the wavelength of the peak of the spectrum and the temperature?  Select a few temperatures and derive/verify this relation."
   ]
  },
  {
   "cell_type": "markdown",
   "metadata": {},
   "source": [
    "Summing over all wavelengths, the amount of energy emitted by a blackbody is equal to $\\sigma T^4$.  Thus, as the temperature goes up, the total amount of energy emitted by the blackbody also goes up rapidly.  This could have been seen in the example above as the rapid rescaling of the y-axis as the temperature changed.  This can be seen more clearly in the left-hand plot of the following example, where I have fixed the axes so that change in emission energy becomes readily apparent.  The eagle-eyed observer will also see the slight shift of the peak of the emission spectrum to the left as the temperature increases.  In the right-hand plot, the total energy emitted by the blackbody is plotted as a function of temperature. "
   ]
  },
  {
   "cell_type": "code",
   "execution_count": 33,
   "metadata": {},
   "outputs": [
    {
     "data": {
      "application/vnd.jupyter.widget-view+json": {
       "model_id": "d6ac7a58b8c74cdab1520059ccb86174",
       "version_major": 2,
       "version_minor": 0
      },
      "text/plain": [
       "interactive(children=(IntSlider(value=1300, description='temp', max=1600, min=1000, step=25), Output()), _dom_…"
      ]
     },
     "metadata": {},
     "output_type": "display_data"
    }
   ],
   "source": [
    "wv=np.linspace(0.1,10,1000)\n",
    "\n",
    "def func_plot(temp=1300):\n",
    "    fig,axes=plt.subplots(1,2,figsize=(12,5))\n",
    "    plt.subplots_adjust(wspace=0.3)\n",
    "\n",
    "    # left-hand panel: spectrum\n",
    "    sca(axes[0])\n",
    "    out1=planck(wv,temp)/1e3\n",
    "    plot(wv,out1)\n",
    "    ylim(0,140)\n",
    "    xlim(0,8)\n",
    "    xlabel('wavelength ($\\mu m$)')\n",
    "    ylabel('power/area/micron ($kW/m^2/\\mu m$)')\n",
    "    \n",
    "    mu_max=2897/temp\n",
    "    plot([mu_max],[planck(mu_max,temp)/1e3],'o',color='#1f77b4')\n",
    "    axvline(mu_max,color='#1f77b4',ls=':')\n",
    "    \n",
    "    # left-hand panel: spectrum\n",
    "    sca(axes[1])\n",
    "    plot(np.arange(1000,1600),np.arange(1000,1600)**4*5.67e-8/1e3)\n",
    "    plot([temp],[temp**4*5.67e-8/1e3],'o',color='r',markersize=20)\n",
    "    xlabel('temperature (K)')\n",
    "    ylabel('power/area ($kW/m^2$)')\n",
    "    ylim(0,400)\n",
    "\n",
    "    \n",
    "interact(func_plot,temp=(1000,1600,25));"
   ]
  },
  {
   "cell_type": "markdown",
   "metadata": {},
   "source": [
    "## conservation of energy"
   ]
  },
  {
   "cell_type": "markdown",
   "metadata": {},
   "source": [
    "As discussed in the book, everything glows via blackbody radiation.  And the wavelength of the glow is determined by the object's temperature.\n",
    "\n",
    "The plot below shows how the blackbody spectrum changes as the object's temperature changes.  The hotter object, the shorter the wavelength \\[Dash] the colored area denotes the visible portion of the electromagnetic spectrum.   As you move the slider back and forth, the temperature will vary between 255 K (the temperature of the Earth with no atmosphere) and 6000 K (the blackbody temperature of the Sun)."
   ]
  },
  {
   "cell_type": "code",
   "execution_count": null,
   "metadata": {},
   "outputs": [],
   "source": []
  }
 ],
 "metadata": {
  "kernelspec": {
   "display_name": "Python 3",
   "language": "python",
   "name": "python3"
  },
  "language_info": {
   "codemirror_mode": {
    "name": "ipython",
    "version": 3
   },
   "file_extension": ".py",
   "mimetype": "text/x-python",
   "name": "python",
   "nbconvert_exporter": "python",
   "pygments_lexer": "ipython3",
   "version": "3.7.6"
  }
 },
 "nbformat": 4,
 "nbformat_minor": 2
}
